{
 "cells": [
  {
   "cell_type": "code",
   "execution_count": 16,
   "id": "1d7846d8-ef7c-4287-9ccb-5e93630f56d5",
   "metadata": {},
   "outputs": [],
   "source": [
    "import numpy as np\n",
    "import sympy as sp"
   ]
  },
  {
   "cell_type": "markdown",
   "id": "3d26b74c-034b-4cd1-a9aa-22e018dcd0c9",
   "metadata": {},
   "source": [
    "# Calculating Limits Numerically:"
   ]
  },
  {
   "cell_type": "markdown",
   "id": "66707995-0f77-4f8f-a135-ca1a8e10c5e8",
   "metadata": {},
   "source": [
    "-creating function f(x)  \n",
    "-values of x approaching 3 from both sides  \n",
    "-evaluating the results of f(x) at these specific values  \n",
    "-printing results  \n",
    "Outcome: The limit is consistent with the direct substitution of x=3  "
   ]
  },
  {
   "cell_type": "code",
   "execution_count": 1,
   "id": "6f39891d-9287-4522-b526-7ccb04ee1f1f",
   "metadata": {},
   "outputs": [
    {
     "name": "stdout",
     "output_type": "stream",
     "text": [
      "f(2.9) = 38.178\n",
      "f(2.99) = 42.50179800000001\n",
      "f(2.999) = 42.95001799800001\n",
      "f(3.0) = 43.0\n",
      "f(3.01) = 43.50180199999999\n",
      "f(3.001) = 43.050018001999995\n",
      "f(3.1) = 48.18200000000001\n"
     ]
    }
   ],
   "source": [
    "def f(x):\n",
    "    return 2 * (x**3) - 4 * x + 1\n",
    "x_values = [2.9,2.99,2.999,3.0,3.01,3.001,3.1]\n",
    "results = {x: f(x) for x in x_values}\n",
    "for x, fx in results.items():\n",
    "    print(f'f({x}) = {fx}')"
   ]
  },
  {
   "cell_type": "markdown",
   "id": "1de1a37c-2c5f-45c1-b3b0-91b7e5fc6802",
   "metadata": {},
   "source": [
    "-creating function g(x)  \n",
    "-values of x approaching 0 from both sides to see the behaviour  \n",
    "-evaluating g(x) at these specific values  \n",
    "-printing results  \n",
    "Outcome: The limit of g(x) as x approaches 0 is known to be 1, based on the Taylor series expansion e^x. "
   ]
  },
  {
   "cell_type": "code",
   "execution_count": 4,
   "id": "9e8bd8cf-feed-4201-a60b-ebf749552e33",
   "metadata": {},
   "outputs": [
    {
     "name": "stdout",
     "output_type": "stream",
     "text": [
      "g(-1e-05) = 0.9999950000172396\n",
      "g(-1e-06) = 0.9999994999843054\n",
      "g(-1e-07) = 0.999999949513608\n",
      "g(1e-07) = 1.0000000494336803\n",
      "g(1e-06) = 1.0000004999621837\n",
      "g(1e-05) = 1.000005000006965\n"
     ]
    }
   ],
   "source": [
    "def g(x):\n",
    "    return (np.exp(x) - 1) / x\n",
    "x_ = np.array([-1e-5,-1e-6,-1e-7,1e-7,1e-6,1e-5])\n",
    "g_values = g(x_)\n",
    "for x, g_val in zip(x_, g_values):\n",
    "    print(f'g({x}) = {g_val}')"
   ]
  },
  {
   "cell_type": "markdown",
   "id": "00428608-dc5a-4037-a856-da26cd69842c",
   "metadata": {},
   "source": [
    "#Average Rate of Change:  \n",
    "-defining the function f(x) = 3x²  \n",
    "-calculating f(a) and f(b)  \n",
    "-calculating the average rate of change  \n",
    "-setting an example use  \n",
    "-printing value  \n",
    "Outcome: Function returns the computed average rate of change"
   ]
  },
  {
   "cell_type": "code",
   "execution_count": 5,
   "id": "95f4067d-56f8-496d-b5b4-37b15864646b",
   "metadata": {},
   "outputs": [
    {
     "name": "stdout",
     "output_type": "stream",
     "text": [
      "18.0\n"
     ]
    }
   ],
   "source": [
    "def average_rate_of_change(a,b):\n",
    "    def f(x):\n",
    "        return 3 * (x**2)\n",
    "    fa = f(a)\n",
    "    fb = f(b)\n",
    "    average_rate = (fb-fa) / (b-a)\n",
    "    return average_rate\n",
    "a = 2\n",
    "b = 4\n",
    "result = average_rate_of_change(a,b)\n",
    "print(result)"
   ]
  },
  {
   "cell_type": "markdown",
   "id": "f593f4bf-6bbc-47e3-9582-e05b69791942",
   "metadata": {},
   "source": [
    "# Average Rate of Change to Instantaneous Rate of Change"
   ]
  },
  {
   "cell_type": "markdown",
   "id": "7df21867-dfcc-472a-8bc1-e7f7078bfd6a",
   "metadata": {},
   "source": [
    "A-C:  \n",
    "-defining the function f(x) = 4.9t²  \n",
    "-calculating f(x) and f(y)  \n",
    "-calculating the average rate of change  \n",
    "-printing the results with the given values  "
   ]
  },
  {
   "cell_type": "code",
   "execution_count": 13,
   "id": "7552a034-50d7-439c-9660-9e7c7699d5ce",
   "metadata": {},
   "outputs": [
    {
     "name": "stdout",
     "output_type": "stream",
     "text": [
      "Average rate of change of distance:  53.9\n",
      "Average rate of change of distance:  51.45\n",
      "Average rate of change of distance:  49.49\n"
     ]
    }
   ],
   "source": [
    "def avg_rate_of_change(x,y):\n",
    "    def f(t):\n",
    "        return 4.9 * (t**2)\n",
    "    fx = f(x)\n",
    "    fy = f(y)\n",
    "    average_rate = (fy-fx) / (y-x)\n",
    "    return average_rate\n",
    "print('Average rate of change of distance: ', round(avg_rate_of_change(5,6), 2))\n",
    "print('Average rate of change of distance: ', round(avg_rate_of_change(5,5.5), 2))\n",
    "print('Average rate of change of distance: ', round(avg_rate_of_change(5,5.1), 2))"
   ]
  },
  {
   "cell_type": "markdown",
   "id": "7e74c2e8-b46d-4eb1-a5cb-7501d72892b7",
   "metadata": {},
   "source": [
    "D-F:  \n",
    "-defining the variable and function  \n",
    "-computing the derivative at t = 5  \n",
    "-evaluating the derivative at t = 5\n",
    "-printing the variable holding the derivative  \n",
    "-calculating derivative of f at t = 5  \n",
    "Outcome: 49 meters per second is the Instantaneous speed of the baseball"
   ]
  },
  {
   "cell_type": "code",
   "execution_count": 26,
   "id": "a8a91ec5-b755-41da-9130-e4bb457ff68f",
   "metadata": {},
   "outputs": [
    {
     "name": "stdout",
     "output_type": "stream",
     "text": [
      "Instantaneous Rate of Change:  49.0000000000000\n",
      "Derivative of f:  9.8*t\n",
      "Derivative of f at t = 5: 49.0\n"
     ]
    }
   ],
   "source": [
    "t = sp.symbols('t')\n",
    "f = 4.9 * (t**2)\n",
    "f_prime = sp.diff(f,t)\n",
    "inst_rate_of_change = f_prime.subs(t,5)\n",
    "derivative_at_5 = 9.8 * 5\n",
    "print('Instantaneous Rate of Change: ', inst_rate_of_change)\n",
    "print('Derivative of f: ',f_prime)\n",
    "print('Derivative of f at t = 5:',derivative_at_5)"
   ]
  },
  {
   "cell_type": "markdown",
   "id": "913ddcf4-c976-4d32-a11a-f98387d3ea21",
   "metadata": {},
   "source": [
    "# Calculating and Interpreting Partial Derivatives"
   ]
  },
  {
   "cell_type": "markdown",
   "id": "1041aaa8-f419-4385-bebe-4f852680d2b9",
   "metadata": {},
   "source": [
    "A:  \n",
    "-defining the values for the condition c and age y  \n",
    "-defining the coefficient and intercept from the model  \n",
    "-calculating the predicting selling price  "
   ]
  },
  {
   "cell_type": "code",
   "execution_count": 29,
   "id": "130b7ca9-77d0-401a-a669-ec5ec824aa27",
   "metadata": {},
   "outputs": [
    {
     "name": "stdout",
     "output_type": "stream",
     "text": [
      "The predicted selling price is: $ 26200\n"
     ]
    }
   ],
   "source": [
    "condition = 8\n",
    "age = 5\n",
    "intercept = 16000\n",
    "coefficient_of_condition = 2400\n",
    "coefficient_of_age = 1800\n",
    "predicted_price = intercept + (coefficient_of_condition * condition) - (coefficient_of_age * age)\n",
    "print('The predicted selling price is: $', predicted_price)"
   ]
  },
  {
   "cell_type": "markdown",
   "id": "e8fe7b79-808f-4a9b-b88b-c952932a1a9a",
   "metadata": {},
   "source": [
    "B:  \n",
    "-defining the symbols  \n",
    "-defining the function  \n",
    "-calculating the partial derivative of P with respect to C\n",
    "Outcome: It indicates that for each one-point increase in the rating, the predicted value of the vehicle appreciates by by $2400"
   ]
  },
  {
   "cell_type": "code",
   "execution_count": 31,
   "id": "9d4db40f-6d4c-48df-9e45-cf320b51d17d",
   "metadata": {},
   "outputs": [
    {
     "name": "stdout",
     "output_type": "stream",
     "text": [
      "The partial derivative of P with respect to C:  2400\n"
     ]
    }
   ],
   "source": [
    "C, Y = sp.symbols('C Y')\n",
    "P = 1600 + 2400 * C - 1800 * Y\n",
    "partial_derivative = sp.diff(P,C)\n",
    "print('The partial derivative of P with respect to C: ', partial_derivative)"
   ]
  },
  {
   "cell_type": "markdown",
   "id": "664eea6f-4da8-4fe7-987c-8e0957f3ea3b",
   "metadata": {},
   "source": [
    "C:\n",
    "-calculating the partial derivative of P with respect to Y\n",
    "Outcome: The value indicates that for each additional year of the car's age, the predicted value depreciates by $1800"
   ]
  },
  {
   "cell_type": "code",
   "execution_count": 32,
   "id": "22303bea-e007-450f-bf03-1f3bb76b7fc1",
   "metadata": {},
   "outputs": [
    {
     "name": "stdout",
     "output_type": "stream",
     "text": [
      "The partial derivative of P with respect to y:  -1800\n"
     ]
    }
   ],
   "source": [
    "partial_deriv = sp.diff(P,Y)\n",
    "print('The partial derivative of P with respect to y: ', partial_deriv)"
   ]
  }
 ],
 "metadata": {
  "kernelspec": {
   "display_name": "Python 3 (ipykernel)",
   "language": "python",
   "name": "python3"
  },
  "language_info": {
   "codemirror_mode": {
    "name": "ipython",
    "version": 3
   },
   "file_extension": ".py",
   "mimetype": "text/x-python",
   "name": "python",
   "nbconvert_exporter": "python",
   "pygments_lexer": "ipython3",
   "version": "3.9.13"
  }
 },
 "nbformat": 4,
 "nbformat_minor": 5
}
