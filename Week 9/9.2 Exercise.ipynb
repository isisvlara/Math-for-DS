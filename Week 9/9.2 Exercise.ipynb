{
 "cells": [
  {
   "cell_type": "code",
   "execution_count": 18,
   "id": "181dab8b-e947-43ac-a0ea-fafa47a0004f",
   "metadata": {},
   "outputs": [],
   "source": [
    "import numpy as np\n",
    "import pandas as pd\n",
    "import matplotlib.pyplot as plt\n",
    "import seaborn as sns\n",
    "from sklearn.decomposition import PCA\n",
    "from sklearn.preprocessing import StandardScaler"
   ]
  },
  {
   "cell_type": "markdown",
   "id": "6f0a6bd6-2fbd-422c-a1a5-62bab4adc286",
   "metadata": {},
   "source": [
    "# Part 1:  \n",
    "-A.) Scalar values of vector_a are not equal therefore it is not an eigenvector  \n",
    "-B.) Scalar values of vector_b are not equal therefore it is not an eigenvector  \n",
    "-C.) Calculated all of the eigenvalues and eigenvectors for matrix_x"
   ]
  },
  {
   "cell_type": "code",
   "execution_count": 7,
   "id": "97108876-3263-4bf9-8427-89089a8999ac",
   "metadata": {},
   "outputs": [],
   "source": [
    "#define array\n",
    "matrix_x = np.array([[4,0,1],\n",
    "              [-1,-6,-2],\n",
    "              [5,0,0]])\n",
    "\n",
    "#define vectors for part a and b\n",
    "vector_a = np.array([1,2,3])\n",
    "vector_b = np.array([0,1,0])"
   ]
  },
  {
   "cell_type": "code",
   "execution_count": 56,
   "id": "0729d590-ef06-4c62-90cd-0fa70cad5eb0",
   "metadata": {},
   "outputs": [
    {
     "name": "stdout",
     "output_type": "stream",
     "text": [
      "matrix_x multiplied by vector_a:  [  7 -19   5]\n",
      "matrix_x multiplied by vector_b:  [ 0 -6  0]\n"
     ]
    }
   ],
   "source": [
    "#Calculation of matrix multiplied by vector \n",
    "result = np.dot(matrix_x, vector_a)\n",
    "result2 = np.dot(matrix_x, vector_b)\n",
    "\n",
    "print(\"matrix_x multiplied by vector_a: \", result)\n",
    "print(\"matrix_x multiplied by vector_b: \", result2)"
   ]
  },
  {
   "cell_type": "code",
   "execution_count": 9,
   "id": "2bdcc86a-4fbd-437f-a4df-3a01ae9562bc",
   "metadata": {},
   "outputs": [
    {
     "name": "stdout",
     "output_type": "stream",
     "text": [
      "Scalar ratios matrix by vector_a: [ 7.         -9.5         1.66666667]\n",
      "Scalar ratios matrix by vector_b: [ inf -19.  inf]\n"
     ]
    },
    {
     "name": "stderr",
     "output_type": "stream",
     "text": [
      "C:\\Users\\isisV\\AppData\\Local\\Temp\\ipykernel_23848\\3462182934.py:3: RuntimeWarning: divide by zero encountered in true_divide\n",
      "  scalar2 = result / vector_b\n"
     ]
    }
   ],
   "source": [
    "#check if matrrix * vector is a scalar multiple of each vector\n",
    "scalar = result / vector_a\n",
    "scalar2 = result / vector_b\n",
    "\n",
    "print(\"Scalar ratios matrix by vector_a:\", scalar)\n",
    "print(\"Scalar ratios matrix by vector_b:\", scalar2)"
   ]
  },
  {
   "cell_type": "code",
   "execution_count": 57,
   "id": "71867531-9f3c-4f59-b9cf-1e626947a456",
   "metadata": {},
   "outputs": [
    {
     "name": "stdout",
     "output_type": "stream",
     "text": [
      "Is vector_a an eigenvector of matrix_x? False\n"
     ]
    }
   ],
   "source": [
    "#Check if all elements in scalar are equal using first result\n",
    "is_eigenvector = np.allclose(scalar, scalar[0])\n",
    "\n",
    "print(\"Is vector_a an eigenvector of matrix_x?\", is_eigenvector)\n",
    "\n",
    "if is_eigenvector:\n",
    "    print(\"The eigenvalue is:\", scalar[0])"
   ]
  },
  {
   "cell_type": "code",
   "execution_count": 58,
   "id": "d6882915-e307-4551-8a04-98c69daad8c4",
   "metadata": {},
   "outputs": [
    {
     "name": "stdout",
     "output_type": "stream",
     "text": [
      "Is vector_a an eigenvector of matrix_x? False\n"
     ]
    }
   ],
   "source": [
    "#Check if all elements in scalar are equal using second result\n",
    "is_eigenvector2 = np.allclose(scalar2, scalar2[0])\n",
    "\n",
    "print(\"Is vector_a an eigenvector of matrix_x?\", is_eigenvector2)\n",
    "\n",
    "if is_eigenvector2:\n",
    "    print(\"The eigenvalue is:\", scalar2[0])"
   ]
  },
  {
   "cell_type": "code",
   "execution_count": 59,
   "id": "9ec9cafa-403e-4e24-bb1e-a45cc62d2083",
   "metadata": {},
   "outputs": [
    {
     "name": "stdout",
     "output_type": "stream",
     "text": [
      "eigenvalues: \n",
      " [-6.  5. -1.]\n",
      "eigenvectors: \n",
      " [[ 0.          0.69431384 -0.18493168]\n",
      " [ 1.         -0.18935832 -0.33287702]\n",
      " [ 0.          0.69431384  0.9246584 ]]\n"
     ]
    }
   ],
   "source": [
    "#Calculating eigenvalues and eigenvectors of matrix_x\n",
    "eigenvalues, eigenvectors = np.linalg.eig(matrix_x)\n",
    "\n",
    "print(\"eigenvalues: \\n\", eigenvalues)\n",
    "print(\"eigenvectors: \\n\", eigenvectors)"
   ]
  },
  {
   "cell_type": "markdown",
   "id": "778f13ab-dded-4c6c-a194-858d68a59fad",
   "metadata": {},
   "source": [
    "# Part 2:  "
   ]
  },
  {
   "cell_type": "code",
   "execution_count": 19,
   "id": "3b122485-97cc-4f1a-833f-e52b571a28ed",
   "metadata": {},
   "outputs": [
    {
     "data": {
      "text/html": [
       "<div>\n",
       "<style scoped>\n",
       "    .dataframe tbody tr th:only-of-type {\n",
       "        vertical-align: middle;\n",
       "    }\n",
       "\n",
       "    .dataframe tbody tr th {\n",
       "        vertical-align: top;\n",
       "    }\n",
       "\n",
       "    .dataframe thead th {\n",
       "        text-align: right;\n",
       "    }\n",
       "</style>\n",
       "<table border=\"1\" class=\"dataframe\">\n",
       "  <thead>\n",
       "    <tr style=\"text-align: right;\">\n",
       "      <th></th>\n",
       "      <th>name</th>\n",
       "      <th>critic_score</th>\n",
       "      <th>user_score</th>\n",
       "      <th>total_shipped</th>\n",
       "    </tr>\n",
       "  </thead>\n",
       "  <tbody>\n",
       "    <tr>\n",
       "      <th>0</th>\n",
       "      <td>Mario Kart Wii</td>\n",
       "      <td>8.2</td>\n",
       "      <td>9.1</td>\n",
       "      <td>37.14</td>\n",
       "    </tr>\n",
       "  </tbody>\n",
       "</table>\n",
       "</div>"
      ],
      "text/plain": [
       "             name  critic_score  user_score  total_shipped\n",
       "0  Mario Kart Wii           8.2         9.1          37.14"
      ]
     },
     "execution_count": 19,
     "metadata": {},
     "output_type": "execute_result"
    }
   ],
   "source": [
    "df = pd.read_csv(\"video_game_data.csv\")\n",
    "df.head(1)"
   ]
  },
  {
   "cell_type": "code",
   "execution_count": 51,
   "id": "241e32a6-87c9-4cc0-9af4-6619c187a753",
   "metadata": {},
   "outputs": [],
   "source": [
    "#extracting user score and critic score from the dataframe\n",
    "data = df[['user_score', 'critic_score']].dropna()\n",
    "\n",
    "# Standardize the data\n",
    "scaler = StandardScaler()\n",
    "data_scaled = scaler.fit_transform(data)\n",
    "\n",
    "#Perform PCA\n",
    "pca = PCA(n_components=2)\n",
    "pca.fit(data_scaled)\n",
    "\n",
    "#retieving first two pricipal components\n",
    "pca1 = pca.components_[0]\n",
    "pca2 = pca.components_[1]\n",
    "\n",
    "#scaling arrow for better visualization\n",
    "arrow_scale = 1"
   ]
  },
  {
   "cell_type": "code",
   "execution_count": 54,
   "id": "eb222cf5-ef6e-48a3-b63f-485ce82f4ea5",
   "metadata": {},
   "outputs": [
    {
     "data": {
      "image/png": "[encoded data removed]",
      "text/plain": [
       "<Figure size 1000x800 with 1 Axes>"
      ]
     },
     "metadata": {},
     "output_type": "display_data"
    }
   ],
   "source": [
    "# Create the plot\n",
    "plt.figure(figsize=(10, 8))\n",
    "plt.scatter(data['user_score'], data['critic_score'], alpha=0.7)\n",
    "\n",
    "# Plotting the first principal component\n",
    "plt.arrow(np.mean(data['user_score']), np.mean(data['critic_score']),\n",
    "          arrow_scale * pca1[0], arrow_scale * pca1[1],\n",
    "          color='r', width=0.01, head_width=0.1,\n",
    "          length_includes_head=True, label='First PC')\n",
    "\n",
    "# Plotting the second principal component\n",
    "plt.arrow(np.mean(data['user_score']), np.mean(data['critic_score']),\n",
    "          arrow_scale * pca2[0], arrow_scale * pca2[1],\n",
    "          color='g', width=0.01, head_width=0.1,\n",
    "          length_includes_head=True, label='Second PC')\n",
    "\n",
    "plt.xlabel('User Score')\n",
    "plt.ylabel('Critic Score')\n",
    "plt.title('User vs Critic Scores with Principal Component Directions')\n",
    "plt.legend()\n",
    "plt.axis('equal')\n",
    "plt.grid(True)\n",
    "plt.show()"
   ]
  }
 ],
 "metadata": {
  "kernelspec": {
   "display_name": "Python 3 (ipykernel)",
   "language": "python",
   "name": "python3"
  },
  "language_info": {
   "codemirror_mode": {
    "name": "ipython",
    "version": 3
   },
   "file_extension": ".py",
   "mimetype": "text/x-python",
   "name": "python",
   "nbconvert_exporter": "python",
   "pygments_lexer": "ipython3",
   "version": "3.9.13"
  }
 },
 "nbformat": 4,
 "nbformat_minor": 5
}
