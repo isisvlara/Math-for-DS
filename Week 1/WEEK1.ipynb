{
 "cells": [
  {
   "cell_type": "markdown",
   "id": "349dcb57-7267-4b16-9c05-be4bac47d53e",
   "metadata": {},
   "source": [
    "-Importing all neccessary packages.  \n",
    "-Importing data. "
   ]
  },
  {
   "cell_type": "code",
   "execution_count": 9,
   "id": "136c78a2-d5ff-42e1-9b65-26cf798a545a",
   "metadata": {},
   "outputs": [],
   "source": [
    "import pandas as pd\n",
    "import numpy as np\n",
    "from matplotlib import pyplot as plt\n",
    "%matplotlib inline\n",
    "\n",
    "housingdf = pd.read_csv('housing_data.csv')\n",
    "mushroom = pd.read_csv('mushroom_data.csv')"
   ]
  },
  {
   "cell_type": "markdown",
   "id": "0a3e2226-ff3c-44bf-a083-6c0b1ab936ee",
   "metadata": {},
   "source": [
    "-Created two arrays of the same length for problem 1a.  \n",
    "-Created a variable that calculates the difference between the predicted and actual values using np.square() and np.subtract()  \n",
    "-Created a variable to calculate the RMSE value with np.sqrt()  \n",
    "-Printed value of RMSE  "
   ]
  },
  {
   "cell_type": "code",
   "execution_count": 4,
   "id": "9aa52e83-244c-48a7-9515-ecdd405e39d8",
   "metadata": {},
   "outputs": [
    {
     "name": "stdout",
     "output_type": "stream",
     "text": [
      "RMSE: 40.226146436650595\n"
     ]
    }
   ],
   "source": [
    "actual_values_array = np.array([1,2,7,8,63,101,12])\n",
    "predicted_values_array = np.array([4,5,6,7,8,100,103])\n",
    "\n",
    "meanSquaredError = ((predicted_values_array - actual_values_array)**2).mean()\n",
    "rmse = np.sqrt(meanSquaredError)\n",
    "print(\"RMSE:\", rmse)"
   ]
  },
  {
   "cell_type": "markdown",
   "id": "22b8d27c-3102-4077-8be2-d9f32167ef01",
   "metadata": {},
   "source": [
    "-Checking to see the data imported correctly  \n",
    "-Created a variable that calculates the difference between the predicted and actual values using np.square() and np.subtract() for the housing database  \n",
    "-Created a variable to calculate the RMSE value with math.sqrt()  \n",
    "-Printed value of RMSE  "
   ]
  },
  {
   "cell_type": "code",
   "execution_count": 5,
   "id": "e9078ee2-552f-4d08-a0d6-48bdaebe1863",
   "metadata": {},
   "outputs": [
    {
     "name": "stdout",
     "output_type": "stream",
     "text": [
      "RMSE: 55064.068833898666\n"
     ]
    }
   ],
   "source": [
    "housingdf.head(1)\n",
    "\n",
    "MSE_housing = np.square(np.subtract(housingdf.sale_price,housingdf.sale_price_pred)).mean()\n",
    "RMSE_housing = np.sqrt(MSE_housing)\n",
    "print('RMSE:', RMSE_housing)"
   ]
  },
  {
   "cell_type": "markdown",
   "id": "6e170bfd-1af8-444c-b72d-e7c30b877636",
   "metadata": {},
   "source": [
    "-Generated two arrays of the same length having random numbers  \n",
    "-Calculated Mean of Absolute Error using a for loop  \n",
    "-Printed value of mae  "
   ]
  },
  {
   "cell_type": "code",
   "execution_count": 14,
   "id": "cf705b7e-7448-4ff8-82b0-9796c02e25cf",
   "metadata": {},
   "outputs": [
    {
     "name": "stdout",
     "output_type": "stream",
     "text": [
      "Mean Absolute Error: 30.714285714285715\n"
     ]
    }
   ],
   "source": [
    "RandomNumbersActual = [4,6,12,32,11,68,9]\n",
    "RandomNumbersPredicted = [81,3,5,7,77,38,16]\n",
    "\n",
    "n = 7\n",
    "answer = 0\n",
    "for i in range(n):\n",
    "    answer += abs(RandomNumbersActual[i] - RandomNumbersPredicted[i])\n",
    "error = answer/n\n",
    "\n",
    "print('Mean Absolute Error:', error)"
   ]
  },
  {
   "cell_type": "markdown",
   "id": "463c2f7d-06c2-41f0-a990-4a5a952e371b",
   "metadata": {},
   "source": [
    "-Calculated Mean of Absolute Error using a for loop for housing database  \n",
    "-Printed value of mae  "
   ]
  },
  {
   "cell_type": "code",
   "execution_count": 16,
   "id": "6e66ae25-b8e9-44ba-99d4-070bf0fb2689",
   "metadata": {},
   "outputs": [
    {
     "name": "stdout",
     "output_type": "stream",
     "text": [
      "Mean Absolute Error: 37438.689162705436\n"
     ]
    }
   ],
   "source": [
    "n = 1460\n",
    "value = 0\n",
    "for i in range(n):\n",
    "    value += abs(housing.sale_price[i] - housing.sale_price_pred[i])\n",
    "maeError = value/n\n",
    "print('Mean Absolute Error:', maeError)"
   ]
  },
  {
   "cell_type": "markdown",
   "id": "ffc04ec5-26e4-402f-b924-1971a8b0b525",
   "metadata": {},
   "source": [
    "-Created two arrays and a function finding the accuracy  \n",
    "-Made two new columns recoding the variables within the 'actual' and 'predicted' columns to 1's and 0's  \n",
    "-Checked the database to confirm recoding  \n",
    "-Applied the accuracy function to the mushroom database new columns 'actual1' and 'predicted1'  "
   ]
  },
  {
   "cell_type": "code",
   "execution_count": 17,
   "id": "ea23fc3f-321c-49e0-848b-7989111362c8",
   "metadata": {},
   "outputs": [
    {
     "data": {
      "text/plain": [
       "0.8471196454948301"
      ]
     },
     "execution_count": 17,
     "metadata": {},
     "output_type": "execute_result"
    }
   ],
   "source": [
    "true_val = [0,1,1,1,0,0,1,0]\n",
    "pred_val = [1,0,1,0,1,1,1,1]\n",
    "\n",
    "def accuracy(true_val, pred_val):\n",
    "    accuracy = np.sum(np.equal(true_val, pred_val))/len(true_val)\n",
    "    return accuracy\n",
    "\n",
    "accuracy(true_val, pred_val)\n",
    "def variables(series):\n",
    "    if series == \"p\":\n",
    "        return 0\n",
    "    if series == \"e\":\n",
    "        return 1\n",
    "\n",
    "mushroom['actual1'] = mushroom['actual'].apply(variables)\n",
    "\n",
    "def variablesTwo(series):\n",
    "    if series == \"p\":\n",
    "        return 0\n",
    "    if series == \"e\":\n",
    "        return 1\n",
    "\n",
    "mushroom['predicted1'] = mushroom['predicted'].apply(variablesTwo)\n",
    "\n",
    "mushroom.head()\n",
    "accuracy(mushroom.actual1, mushroom.predicted1)"
   ]
  },
  {
   "cell_type": "markdown",
   "id": "15d6eab9-8c7b-4214-86d6-cd78deba2a23",
   "metadata": {},
   "source": [
    "-Created a function with the provided info  \n",
    "-Created an array using linespace() for the x values  \n",
    "-Created an empty array for the y values  \n",
    "-Appended values from the function into the y array using a for loop "
   ]
  },
  {
   "cell_type": "code",
   "execution_count": 19,
   "id": "1b0d6b3e-6ce9-474d-b271-ffcedff3c00b",
   "metadata": {},
   "outputs": [
    {
     "name": "stdout",
     "output_type": "stream",
     "text": [
      "[0.         0.28571429 0.57142857 0.85714286]\n",
      "50\n"
     ]
    }
   ],
   "source": [
    "def f(p):\n",
    "    value = (0.005*pow(p,6)) - (0.27*pow(p,5)) + (5.998*pow(p,4)) - (69.19*pow(p,3)) + (449.17*pow(p,2)) - (1499*p) + 2028\n",
    "    return value\n",
    "\n",
    "x_values = np.linspace(0,14,50, endpoint=True)\n",
    "y_values = []\n",
    "n = len(x_values)\n",
    "\n",
    "print(x_values[:4])\n",
    "print(n)"
   ]
  },
  {
   "cell_type": "code",
   "execution_count": 22,
   "id": "f3790649-a1ca-4ea7-9256-8e70804d418f",
   "metadata": {},
   "outputs": [
    {
     "name": "stdout",
     "output_type": "stream",
     "text": [
      "[2028.0, 1634.8069222177835, 1305.8094830555297, 1032.6883954134755]\n"
     ]
    }
   ],
   "source": [
    "for i in range(n):\n",
    "    y = f(x_values[i])\n",
    "    y_values.append(y)\n",
    "print(y_values[:4])"
   ]
  },
  {
   "cell_type": "code",
   "execution_count": 23,
   "id": "9045a297-0e95-437a-8f2a-dfa94d7fb41a",
   "metadata": {},
   "outputs": [
    {
     "data": {
      "image/png": "[encoded data removed]",
      "text/plain": [
       "<Figure size 750x350 with 1 Axes>"
      ]
     },
     "metadata": {},
     "output_type": "display_data"
    }
   ],
   "source": [
    "plt.rcParams[\"figure.figsize\"] = [7.50, 3.50]\n",
    "plt.rcParams[\"figure.autolayout\"] = True\n",
    "plt.plot(x_values, y_values, color='green')\n",
    "plt.show()"
   ]
  },
  {
   "cell_type": "markdown",
   "id": "02e4525d-fac0-4c5a-a4ec-e41178878197",
   "metadata": {},
   "source": [
    "a.) Plot above  \n",
    "b.) The min error is at the local and global minimum between 3 and 4  \n",
    "c.) It appears the minimum value is approximately less than 100"
   ]
  }
 ],
 "metadata": {
  "kernelspec": {
   "display_name": "Python 3 (ipykernel)",
   "language": "python",
   "name": "python3"
  },
  "language_info": {
   "codemirror_mode": {
    "name": "ipython",
    "version": 3
   },
   "file_extension": ".py",
   "mimetype": "text/x-python",
   "name": "python",
   "nbconvert_exporter": "python",
   "pygments_lexer": "ipython3",
   "version": "3.9.13"
  }
 },
 "nbformat": 4,
 "nbformat_minor": 5
}
