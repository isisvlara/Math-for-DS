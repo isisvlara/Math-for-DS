{
 "cells": [
  {
   "cell_type": "markdown",
   "id": "18bef1f5-8293-42e1-b52a-16d12aa7962b",
   "metadata": {},
   "source": [
    "# Part 1"
   ]
  },
  {
   "cell_type": "code",
   "execution_count": 2,
   "id": "16d3971d-8da1-4975-ac9b-1b042af7e5d0",
   "metadata": {},
   "outputs": [],
   "source": [
    "import numpy as np"
   ]
  },
  {
   "cell_type": "code",
   "execution_count": 97,
   "id": "b562b7ba-18c9-48fa-ba6e-f4c504ecdad0",
   "metadata": {},
   "outputs": [],
   "source": [
    "# Matrix A represents the coefficients of a system of linear equations, \n",
    "# where each row corresponds to the coefficients of one equation in the system. \n",
    "# It is a 4x4 matrix, which means we have four equations with four variables (x1, x2, x3, x4).\n",
    "\n",
    "A = np.array([\n",
    "    [27,-10,4,-29],\n",
    "    [-16,5,-2,18],\n",
    "    [-17,4,-2,20],\n",
    "    [-7,2,-1,8]])\n",
    "\n",
    "B = np.array([1,-1,0,1])"
   ]
  },
  {
   "cell_type": "code",
   "execution_count": 98,
   "id": "2d620f4f-b8bd-4b59-85eb-6a97bbca017e",
   "metadata": {},
   "outputs": [
    {
     "name": "stdout",
     "output_type": "stream",
     "text": [
      "True\n"
     ]
    }
   ],
   "source": [
    "A_inv = np.linalg.inv(A)\n",
    "inverse_check = np.allclose(np.eye(4), A_inv @ A)\n",
    "\n",
    "# Print whether the inverse check passed (True) or failed (False).\n",
    "print(inverse_check)"
   ]
  },
  {
   "cell_type": "code",
   "execution_count": 105,
   "id": "3b023433-e244-4d24-a38f-72fc49b8dc9a",
   "metadata": {},
   "outputs": [
    {
     "name": "stdout",
     "output_type": "stream",
     "text": [
      "The solution for x value is:\n",
      "x1 = 10.00\n",
      "x2 = 3.00\n",
      "x3 = -9.00\n",
      "x4 = 7.00\n"
     ]
    }
   ],
   "source": [
    "# The np.linalg.inv function computes the inverse of matrix A, assuming A is invertible\n",
    "x = np.linalg.solve(A, B)\n",
    "\n",
    "# Loop through the solution vector x and print each value of the variables (x1, x2, x3, x4).\n",
    "# enumerate(x) allows us to get both the index (i) and the corresponding value of x.\n",
    "# The index is incremented by 1 for display purposes, and the values are formatted to 2 decimal places.\n",
    "print(\"The solution for x value is:\")\n",
    "for i, value in enumerate(x):\n",
    "    print(f\"x{i+1} = {value:.2f}\")"
   ]
  },
  {
   "cell_type": "markdown",
   "id": "d75e15dd-60c1-4769-990b-becc1a5d7440",
   "metadata": {},
   "source": [
    "# Part 2"
   ]
  },
  {
   "cell_type": "code",
   "execution_count": 76,
   "id": "153149c5-0823-4d7d-b4d2-ebd443696e3d",
   "metadata": {},
   "outputs": [
    {
     "name": "stdout",
     "output_type": "stream",
     "text": [
      "[[2.82842712]\n",
      " [0.        ]]\n"
     ]
    }
   ],
   "source": [
    "import math\n",
    "# Matrix 'a' represents a 2x2 transformation matrix that performs a \n",
    "# 45-degree counterclockwise rotation. Each element is computed using \n",
    "# the square root of 2 divided by 2, which is commonly used in rotation matrices\n",
    "a = np.array([\n",
    "    [math.sqrt(2)/2, -math.sqrt(2)/2],\n",
    "    [math.sqrt(2)/2, math.sqrt(2)/2]])\n",
    "\n",
    "# Function 'transform' applies the linear transformation represented by matrix 'a'\n",
    "# to the input vector 'x'. The result is the transformed vector 't_x'.\n",
    "def transform(x):\n",
    "    t_x = a @ x\n",
    "    return t_x\n",
    "\n",
    "# Define vector 'v' as a 2x1 vector with components [2, -2]. This represents a point or vector\n",
    "# in R^2 that will be transformed by the matrix 'a'.\n",
    "v = np.array([2, -2]).reshape(-1, 1)\n",
    "\n",
    "print(transform(v))"
   ]
  },
  {
   "cell_type": "code",
   "execution_count": 92,
   "id": "c440d6fc-b2ce-4216-8139-bb2ef2d9df15",
   "metadata": {},
   "outputs": [
    {
     "data": {
      "image/png": "[encoded data removed]",
      "text/plain": [
       "<Figure size 500x500 with 1 Axes>"
      ]
     },
     "metadata": {},
     "output_type": "display_data"
    }
   ],
   "source": [
    "import matplotlib.pyplot as plt\n",
    "\n",
    "Tv = a @ v\n",
    "\n",
    "plt.figure(figsize=(5, 5))\n",
    "\n",
    "# Plot the original coordinate system\n",
    "plt.axhline(y=0, color='k', linestyle='--', linewidth=0.5)\n",
    "plt.axvline(x=3, color='k', linestyle='--', linewidth=0.5)\n",
    "\n",
    "# Plot the original vector v\n",
    "plt.quiver(0, 0, v[0], v[1], angles='xy', scale_units='xy', scale=2, color='b', label='v')\n",
    "\n",
    "# Plot the transformed vector T(v)\n",
    "plt.quiver(0, 0, Tv[0], Tv[1], angles='xy', scale_units='xy', scale=2, color='r', label='T(v)')\n",
    "\n",
    "\n",
    "# Set the limits and labels\n",
    "plt.xlim(-3, 3)\n",
    "plt.ylim(-3, 3)\n",
    "plt.xlabel('x')\n",
    "plt.ylabel('y')\n",
    "plt.title('Visualization of Linear Transformation T')\n",
    "plt.legend()\n",
    "plt.grid(True)\n",
    "plt.axis('equal')\n",
    "\n",
    "plt.show()"
   ]
  },
  {
   "cell_type": "markdown",
   "id": "e54681e1-5553-4c03-89b6-91b920065684",
   "metadata": {},
   "source": [
    "In summary, 𝑇 acts as a rotation operator, preserving the distances and angles between vectors while rotating them counterclockwise by 45 degrees."
   ]
  }
 ],
 "metadata": {
  "kernelspec": {
   "display_name": "Python 3 (ipykernel)",
   "language": "python",
   "name": "python3"
  },
  "language_info": {
   "codemirror_mode": {
    "name": "ipython",
    "version": 3
   },
   "file_extension": ".py",
   "mimetype": "text/x-python",
   "name": "python",
   "nbconvert_exporter": "python",
   "pygments_lexer": "ipython3",
   "version": "3.9.13"
  }
 },
 "nbformat": 4,
 "nbformat_minor": 5
}
