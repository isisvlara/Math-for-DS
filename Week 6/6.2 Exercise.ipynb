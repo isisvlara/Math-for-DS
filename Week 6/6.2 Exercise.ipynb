{
 "cells": [
  {
   "cell_type": "code",
   "execution_count": 18,
   "id": "310faa79-ff4a-442e-97a9-6d90dbf9cc5b",
   "metadata": {},
   "outputs": [],
   "source": [
    "import numpy as np"
   ]
  },
  {
   "cell_type": "markdown",
   "id": "64c2d1fd-3297-4232-9e16-391464433d76",
   "metadata": {},
   "source": [
    "# Part 1 and 2:  \n",
    "-Designed a function that scales a vector based on the given methods: min_max or z_score. If statements are created to determine the method. Default will be min_max.  \n",
    "-Based on the paremeter, the function will scale the values to a range between 0 and 1 or calculate the mean and normalized standard deviation of the vector    \n",
    "-If there is an invalid method then an error will be raised"
   ]
  },
  {
   "cell_type": "code",
   "execution_count": 19,
   "id": "079e0dbd-f158-426e-a7cf-335b95970f06",
   "metadata": {},
   "outputs": [],
   "source": [
    "def normalize_vector(vector, method='min_max'):\n",
    "    \n",
    "    if method == 'min_max':\n",
    "        # Min-Max Normalization\n",
    "        min_val = np.min(vector)\n",
    "        max_val = np.max(vector)\n",
    "        normalized = (vector - min_val) / (max_val - min_val)\n",
    "        \n",
    "    elif method == 'z_score':\n",
    "        # Z-score Normalization\n",
    "        mean = np.mean(vector)\n",
    "        std = np.std(vector)\n",
    "        normalized = (vector - mean) / std\n",
    "    else:\n",
    "        raise ValueError(\"Invalid method. Choose 'min_max' or 'z_score'.\")\n",
    "            \n",
    "    return normalized"
   ]
  },
  {
   "cell_type": "code",
   "execution_count": 20,
   "id": "7d18c313-94a9-4931-92bb-a03c6a778162",
   "metadata": {},
   "outputs": [
    {
     "name": "stdout",
     "output_type": "stream",
     "text": [
      "Min-Max Normalized: [0.   0.25 0.5  0.75 1.  ]\n"
     ]
    }
   ],
   "source": [
    "vector1 = [1, 2, 3, 4, 5]\n",
    "vector2 = [-2, -1, 0, 1, 2]\n",
    "\n",
    "# Min-Max Normalization\n",
    "normalized_min_max = normalize_vector(vector1, method='min_max')\n",
    "print(\"Min-Max Normalized:\", normalized_min_max)"
   ]
  },
  {
   "cell_type": "code",
   "execution_count": 21,
   "id": "c54b4fc0-ebd2-46a6-a5d0-08ad42cf3db2",
   "metadata": {},
   "outputs": [
    {
     "name": "stdout",
     "output_type": "stream",
     "text": [
      "Z-score: [-1.41421356 -0.70710678  0.          0.70710678  1.41421356]\n"
     ]
    }
   ],
   "source": [
    "# Z-score Normalization\n",
    "z_score = normalize_vector(vector2, method='z_score')\n",
    "print(\"Z-score:\", z_score)"
   ]
  },
  {
   "cell_type": "markdown",
   "id": "235d88cb-255b-43e9-a3c6-2b6e0595792e",
   "metadata": {},
   "source": [
    "# Part 3 - in order:  \n",
    "-Import statement and reading in data  \n",
    "-A.) Length of rows is 20640  \n",
    "-B.) Target vector for model is the median_house_value  \n",
    "-C.) It represents the average number of bedrooms per household  \n",
    "-D.) New data frame is called df2 that holds the median age, the median income, and the new feature  \n",
    "-E.) Using the function created in part 1 and 2 to find the z-score for each feature of the new df2 data frame"
   ]
  },
  {
   "cell_type": "code",
   "execution_count": 22,
   "id": "f0666f96-ddc4-4994-9e11-326ffca27641",
   "metadata": {},
   "outputs": [
    {
     "data": {
      "text/html": [
       "<div>\n",
       "<style scoped>\n",
       "    .dataframe tbody tr th:only-of-type {\n",
       "        vertical-align: middle;\n",
       "    }\n",
       "\n",
       "    .dataframe tbody tr th {\n",
       "        vertical-align: top;\n",
       "    }\n",
       "\n",
       "    .dataframe thead th {\n",
       "        text-align: right;\n",
       "    }\n",
       "</style>\n",
       "<table border=\"1\" class=\"dataframe\">\n",
       "  <thead>\n",
       "    <tr style=\"text-align: right;\">\n",
       "      <th></th>\n",
       "      <th>housing_median_age</th>\n",
       "      <th>total_bedrooms</th>\n",
       "      <th>households</th>\n",
       "      <th>median_income</th>\n",
       "      <th>median_house_value</th>\n",
       "    </tr>\n",
       "  </thead>\n",
       "  <tbody>\n",
       "    <tr>\n",
       "      <th>0</th>\n",
       "      <td>41</td>\n",
       "      <td>129.0</td>\n",
       "      <td>126</td>\n",
       "      <td>8.3252</td>\n",
       "      <td>452600.0</td>\n",
       "    </tr>\n",
       "  </tbody>\n",
       "</table>\n",
       "</div>"
      ],
      "text/plain": [
       "   housing_median_age  total_bedrooms  households  median_income  \\\n",
       "0                  41           129.0         126         8.3252   \n",
       "\n",
       "   median_house_value  \n",
       "0            452600.0  "
      ]
     },
     "execution_count": 22,
     "metadata": {},
     "output_type": "execute_result"
    }
   ],
   "source": [
    "import pandas as pd\n",
    "df = pd.read_csv(\"calif_housing_data.csv\")\n",
    "df.head(1)"
   ]
  },
  {
   "cell_type": "code",
   "execution_count": 23,
   "id": "e7bd842d-96e6-49f1-924e-1968fd15678c",
   "metadata": {},
   "outputs": [
    {
     "data": {
      "text/plain": [
       "20640"
      ]
     },
     "execution_count": 23,
     "metadata": {},
     "output_type": "execute_result"
    }
   ],
   "source": [
    "#length of rows\n",
    "len(df)"
   ]
  },
  {
   "cell_type": "code",
   "execution_count": 24,
   "id": "713f18a7-c2a4-4b2f-b211-0044234cc0b2",
   "metadata": {},
   "outputs": [
    {
     "data": {
      "text/html": [
       "<div>\n",
       "<style scoped>\n",
       "    .dataframe tbody tr th:only-of-type {\n",
       "        vertical-align: middle;\n",
       "    }\n",
       "\n",
       "    .dataframe tbody tr th {\n",
       "        vertical-align: top;\n",
       "    }\n",
       "\n",
       "    .dataframe thead th {\n",
       "        text-align: right;\n",
       "    }\n",
       "</style>\n",
       "<table border=\"1\" class=\"dataframe\">\n",
       "  <thead>\n",
       "    <tr style=\"text-align: right;\">\n",
       "      <th></th>\n",
       "      <th>housing_median_age</th>\n",
       "      <th>total_bedrooms</th>\n",
       "      <th>households</th>\n",
       "      <th>median_income</th>\n",
       "      <th>median_house_value</th>\n",
       "      <th>avg_num_bedrooms_per_household</th>\n",
       "    </tr>\n",
       "  </thead>\n",
       "  <tbody>\n",
       "    <tr>\n",
       "      <th>0</th>\n",
       "      <td>41</td>\n",
       "      <td>129.0</td>\n",
       "      <td>126</td>\n",
       "      <td>8.3252</td>\n",
       "      <td>452600.0</td>\n",
       "      <td>1.02381</td>\n",
       "    </tr>\n",
       "    <tr>\n",
       "      <th>1</th>\n",
       "      <td>21</td>\n",
       "      <td>1106.0</td>\n",
       "      <td>1138</td>\n",
       "      <td>8.3014</td>\n",
       "      <td>358500.0</td>\n",
       "      <td>0.97188</td>\n",
       "    </tr>\n",
       "  </tbody>\n",
       "</table>\n",
       "</div>"
      ],
      "text/plain": [
       "   housing_median_age  total_bedrooms  households  median_income  \\\n",
       "0                  41           129.0         126         8.3252   \n",
       "1                  21          1106.0        1138         8.3014   \n",
       "\n",
       "   median_house_value  avg_num_bedrooms_per_household  \n",
       "0            452600.0                         1.02381  \n",
       "1            358500.0                         0.97188  "
      ]
     },
     "execution_count": 24,
     "metadata": {},
     "output_type": "execute_result"
    }
   ],
   "source": [
    "#finding the average bedroom per household\n",
    "df[\"avg_num_bedrooms_per_household\"] = df.total_bedrooms / df.households\n",
    "df.head(2)"
   ]
  },
  {
   "cell_type": "code",
   "execution_count": 25,
   "id": "fd6c8d00-c8ef-460c-9759-6c0ebaf9d5ed",
   "metadata": {},
   "outputs": [
    {
     "data": {
      "text/html": [
       "<div>\n",
       "<style scoped>\n",
       "    .dataframe tbody tr th:only-of-type {\n",
       "        vertical-align: middle;\n",
       "    }\n",
       "\n",
       "    .dataframe tbody tr th {\n",
       "        vertical-align: top;\n",
       "    }\n",
       "\n",
       "    .dataframe thead th {\n",
       "        text-align: right;\n",
       "    }\n",
       "</style>\n",
       "<table border=\"1\" class=\"dataframe\">\n",
       "  <thead>\n",
       "    <tr style=\"text-align: right;\">\n",
       "      <th></th>\n",
       "      <th>housing_median_age</th>\n",
       "      <th>median_income</th>\n",
       "      <th>avg_num_bedrooms_per_household</th>\n",
       "    </tr>\n",
       "  </thead>\n",
       "  <tbody>\n",
       "    <tr>\n",
       "      <th>0</th>\n",
       "      <td>41</td>\n",
       "      <td>8.3252</td>\n",
       "      <td>1.02381</td>\n",
       "    </tr>\n",
       "  </tbody>\n",
       "</table>\n",
       "</div>"
      ],
      "text/plain": [
       "   housing_median_age  median_income  avg_num_bedrooms_per_household\n",
       "0                  41         8.3252                         1.02381"
      ]
     },
     "execution_count": 25,
     "metadata": {},
     "output_type": "execute_result"
    }
   ],
   "source": [
    "#new data frame generated including specified columns\n",
    "df2 = pd.DataFrame(df, columns=['housing_median_age','median_income','avg_num_bedrooms_per_household'])\n",
    "df2.head(1)"
   ]
  },
  {
   "cell_type": "code",
   "execution_count": 26,
   "id": "a17539a0-eb66-4fed-96a9-9325899ad6ee",
   "metadata": {},
   "outputs": [],
   "source": [
    "#finding z-score normalization for each feature, returning values into new columns\n",
    "df2[\"z_score_housing_median_age\"] = normalize_vector(df2.housing_median_age, method='z_score')\n",
    "df2[\"z_zcore_median_income\"] = normalize_vector(df2.median_income, method='z_score')\n",
    "df2[\"z_score_avg_num_bedrooms_per_household\"] = normalize_vector(df2.avg_num_bedrooms_per_household, method='z_score')"
   ]
  },
  {
   "cell_type": "code",
   "execution_count": 27,
   "id": "95795f9f-7f62-4a8b-976e-0b642eabc9e2",
   "metadata": {},
   "outputs": [
    {
     "data": {
      "text/html": [
       "<div>\n",
       "<style scoped>\n",
       "    .dataframe tbody tr th:only-of-type {\n",
       "        vertical-align: middle;\n",
       "    }\n",
       "\n",
       "    .dataframe tbody tr th {\n",
       "        vertical-align: top;\n",
       "    }\n",
       "\n",
       "    .dataframe thead th {\n",
       "        text-align: right;\n",
       "    }\n",
       "</style>\n",
       "<table border=\"1\" class=\"dataframe\">\n",
       "  <thead>\n",
       "    <tr style=\"text-align: right;\">\n",
       "      <th></th>\n",
       "      <th>housing_median_age</th>\n",
       "      <th>median_income</th>\n",
       "      <th>avg_num_bedrooms_per_household</th>\n",
       "      <th>z_score_housing_median_age</th>\n",
       "      <th>z_zcore_median_income</th>\n",
       "      <th>z_score_avg_num_bedrooms_per_household</th>\n",
       "    </tr>\n",
       "  </thead>\n",
       "  <tbody>\n",
       "    <tr>\n",
       "      <th>0</th>\n",
       "      <td>41</td>\n",
       "      <td>8.3252</td>\n",
       "      <td>1.023810</td>\n",
       "      <td>0.982143</td>\n",
       "      <td>2.344766</td>\n",
       "      <td>-0.153863</td>\n",
       "    </tr>\n",
       "    <tr>\n",
       "      <th>1</th>\n",
       "      <td>21</td>\n",
       "      <td>8.3014</td>\n",
       "      <td>0.971880</td>\n",
       "      <td>-0.607019</td>\n",
       "      <td>2.332238</td>\n",
       "      <td>-0.262936</td>\n",
       "    </tr>\n",
       "    <tr>\n",
       "      <th>2</th>\n",
       "      <td>52</td>\n",
       "      <td>7.2574</td>\n",
       "      <td>1.073446</td>\n",
       "      <td>1.856182</td>\n",
       "      <td>1.782699</td>\n",
       "      <td>-0.049604</td>\n",
       "    </tr>\n",
       "  </tbody>\n",
       "</table>\n",
       "</div>"
      ],
      "text/plain": [
       "   housing_median_age  median_income  avg_num_bedrooms_per_household  \\\n",
       "0                  41         8.3252                        1.023810   \n",
       "1                  21         8.3014                        0.971880   \n",
       "2                  52         7.2574                        1.073446   \n",
       "\n",
       "   z_score_housing_median_age  z_zcore_median_income  \\\n",
       "0                    0.982143               2.344766   \n",
       "1                   -0.607019               2.332238   \n",
       "2                    1.856182               1.782699   \n",
       "\n",
       "   z_score_avg_num_bedrooms_per_household  \n",
       "0                               -0.153863  \n",
       "1                               -0.262936  \n",
       "2                               -0.049604  "
      ]
     },
     "execution_count": 27,
     "metadata": {},
     "output_type": "execute_result"
    }
   ],
   "source": [
    "df2.head(3)"
   ]
  }
 ],
 "metadata": {
  "kernelspec": {
   "display_name": "Python 3 (ipykernel)",
   "language": "python",
   "name": "python3"
  },
  "language_info": {
   "codemirror_mode": {
    "name": "ipython",
    "version": 3
   },
   "file_extension": ".py",
   "mimetype": "text/x-python",
   "name": "python",
   "nbconvert_exporter": "python",
   "pygments_lexer": "ipython3",
   "version": "3.9.13"
  }
 },
 "nbformat": 4,
 "nbformat_minor": 5
}
